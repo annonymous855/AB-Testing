{
 "cells": [
  {
   "cell_type": "markdown",
   "id": "95155343-d604-46fd-b0c6-279ae545d077",
   "metadata": {},
   "source": [
    "# Статистический анализ: A/B тестирование"
   ]
  },
  {
   "cell_type": "markdown",
   "id": "3c9dd331-af30-4b59-8b2b-619bb55e5c6f",
   "metadata": {
    "jp-MarkdownHeadingCollapsed": true
   },
   "source": [
    "## Введение\n",
    "\n",
    "В этом проекте мы проведём полный цикл A/B тестирования на реальных данных.  \n",
    "Цель — проверить, есть ли статистически значимое различие в конверсии между двумя группами пользователей:\n",
    "\n",
    "- **control** — контрольная группа, видит старую страницу  \n",
    "- **treatment** — экспериментальная группа, видит новую страницу\n",
    "\n",
    "Датасет содержит следующие поля:\n",
    "\n",
    "- `user_id` — уникальный идентификатор пользователя  \n",
    "- `timestamp` — время посещения  \n",
    "- `group` — группа (control/treatment)  \n",
    "- `landing_page` — версия страницы (old_page/new_page)  \n",
    "- `converted` — факт конверсии (0/1)\n",
    "\n",
    "Мы проверим гипотезу:  \n",
    "- H0: конверсия в обеих группах одинаковая  \n",
    "- H1: конверсии различаются\n",
    "\n",
    "---"
   ]
  },
  {
   "cell_type": "markdown",
   "id": "bb3ab515-9ec4-4e27-82cb-33a57af419b8",
   "metadata": {},
   "source": [
    "## Импорт библиотек"
   ]
  },
  {
   "cell_type": "code",
   "execution_count": 105,
   "id": "107f0462-41d7-4670-b1f3-81f1fe3b4dfc",
   "metadata": {},
   "outputs": [],
   "source": [
    "import pandas as pd\n",
    "import numpy as np\n",
    "import matplotlib.pyplot as plt\n",
    "import seaborn as sns\n",
    "from scipy import stats\n",
    "from statsmodels.stats.proportion import proportions_ztest\n",
    "from statsmodels.stats.power import NormalIndPower\n",
    "import scikits.bootstrap as boot"
   ]
  },
  {
   "cell_type": "markdown",
   "id": "23a7001e-af43-490f-bab6-c51b5e3f506a",
   "metadata": {},
   "source": [
    "## Загрузка данных"
   ]
  },
  {
   "cell_type": "markdown",
   "id": "0b8f6849-89be-42aa-8353-ccbf52add40e",
   "metadata": {},
   "source": [
    "Загрузим данные из CSV-файла и посмотрим на первые строки."
   ]
  },
  {
   "cell_type": "code",
   "execution_count": 106,
   "id": "56c101a7-307d-446a-ab9e-2bb34e712771",
   "metadata": {},
   "outputs": [
    {
     "data": {
      "text/html": [
       "<div>\n",
       "<style scoped>\n",
       "    .dataframe tbody tr th:only-of-type {\n",
       "        vertical-align: middle;\n",
       "    }\n",
       "\n",
       "    .dataframe tbody tr th {\n",
       "        vertical-align: top;\n",
       "    }\n",
       "\n",
       "    .dataframe thead th {\n",
       "        text-align: right;\n",
       "    }\n",
       "</style>\n",
       "<table border=\"1\" class=\"dataframe\">\n",
       "  <thead>\n",
       "    <tr style=\"text-align: right;\">\n",
       "      <th></th>\n",
       "      <th>user_id</th>\n",
       "      <th>timestamp</th>\n",
       "      <th>group</th>\n",
       "      <th>landing_page</th>\n",
       "      <th>converted</th>\n",
       "    </tr>\n",
       "  </thead>\n",
       "  <tbody>\n",
       "    <tr>\n",
       "      <th>0</th>\n",
       "      <td>851104</td>\n",
       "      <td>2017-01-21 22:11:48.556739</td>\n",
       "      <td>control</td>\n",
       "      <td>old_page</td>\n",
       "      <td>0</td>\n",
       "    </tr>\n",
       "    <tr>\n",
       "      <th>1</th>\n",
       "      <td>804228</td>\n",
       "      <td>2017-01-12 08:01:45.159739</td>\n",
       "      <td>control</td>\n",
       "      <td>old_page</td>\n",
       "      <td>0</td>\n",
       "    </tr>\n",
       "    <tr>\n",
       "      <th>2</th>\n",
       "      <td>661590</td>\n",
       "      <td>2017-01-11 16:55:06.154213</td>\n",
       "      <td>treatment</td>\n",
       "      <td>new_page</td>\n",
       "      <td>0</td>\n",
       "    </tr>\n",
       "    <tr>\n",
       "      <th>3</th>\n",
       "      <td>853541</td>\n",
       "      <td>2017-01-08 18:28:03.143765</td>\n",
       "      <td>treatment</td>\n",
       "      <td>new_page</td>\n",
       "      <td>0</td>\n",
       "    </tr>\n",
       "    <tr>\n",
       "      <th>4</th>\n",
       "      <td>864975</td>\n",
       "      <td>2017-01-21 01:52:26.210827</td>\n",
       "      <td>control</td>\n",
       "      <td>old_page</td>\n",
       "      <td>1</td>\n",
       "    </tr>\n",
       "  </tbody>\n",
       "</table>\n",
       "</div>"
      ],
      "text/plain": [
       "   user_id                  timestamp      group landing_page  converted\n",
       "0   851104 2017-01-21 22:11:48.556739    control     old_page          0\n",
       "1   804228 2017-01-12 08:01:45.159739    control     old_page          0\n",
       "2   661590 2017-01-11 16:55:06.154213  treatment     new_page          0\n",
       "3   853541 2017-01-08 18:28:03.143765  treatment     new_page          0\n",
       "4   864975 2017-01-21 01:52:26.210827    control     old_page          1"
      ]
     },
     "execution_count": 106,
     "metadata": {},
     "output_type": "execute_result"
    }
   ],
   "source": [
    "df = pd.read_csv('ab_data.csv')\n",
    "df['timestamp'] = pd.to_datetime(df['timestamp'])\n",
    "df.head()"
   ]
  },
  {
   "cell_type": "markdown",
   "id": "52386d00-9da2-4952-b1a7-e4e8b33ee9b8",
   "metadata": {},
   "source": [
    "## Информация о данных"
   ]
  },
  {
   "cell_type": "markdown",
   "id": "10500b96-0f11-497a-afd1-d12cdc107f90",
   "metadata": {},
   "source": [
    "Посмотрим общую информацию и проверим размер датасета."
   ]
  },
  {
   "cell_type": "code",
   "execution_count": 107,
   "id": "9873f145-e598-475e-982d-b60bca247a94",
   "metadata": {},
   "outputs": [
    {
     "name": "stdout",
     "output_type": "stream",
     "text": [
      "<class 'pandas.core.frame.DataFrame'>\n",
      "RangeIndex: 294478 entries, 0 to 294477\n",
      "Data columns (total 5 columns):\n",
      " #   Column        Non-Null Count   Dtype         \n",
      "---  ------        --------------   -----         \n",
      " 0   user_id       294478 non-null  int64         \n",
      " 1   timestamp     294478 non-null  datetime64[ns]\n",
      " 2   group         294478 non-null  object        \n",
      " 3   landing_page  294478 non-null  object        \n",
      " 4   converted     294478 non-null  int64         \n",
      "dtypes: datetime64[ns](1), int64(2), object(2)\n",
      "memory usage: 11.2+ MB\n",
      "Размер датасета: 294478 строк\n"
     ]
    }
   ],
   "source": [
    "df.info()\n",
    "print(f\"Размер датасета: {df.shape[0]} строк\")"
   ]
  },
  {
   "cell_type": "code",
   "execution_count": 108,
   "id": "888e7fa1-b1f7-4cba-9cba-06469ec4ba92",
   "metadata": {},
   "outputs": [
    {
     "data": {
      "text/plain": [
       "user_id         290584\n",
       "timestamp       294478\n",
       "group                2\n",
       "landing_page         2\n",
       "converted            2\n",
       "dtype: int64"
      ]
     },
     "execution_count": 108,
     "metadata": {},
     "output_type": "execute_result"
    }
   ],
   "source": [
    "df.nunique()"
   ]
  },
  {
   "cell_type": "markdown",
   "id": "51905a2d-d4d0-4b0b-93ca-a423bba2340e",
   "metadata": {},
   "source": [
    "## Очистка данных"
   ]
  },
  {
   "cell_type": "markdown",
   "id": "81657adf-b458-4260-8bf7-88db506f06c7",
   "metadata": {},
   "source": [
    "Найдём количество пользователей, у которых наблюдается несоответствие в распределении страниц: пользователи из тестовой группы (treatment) не видят новую страницу, а пользователи из контрольной группы видят новую страницу."
   ]
  },
  {
   "cell_type": "code",
   "execution_count": 109,
   "id": "73763392-9a89-430c-b8eb-123979efd235",
   "metadata": {},
   "outputs": [
    {
     "data": {
      "text/plain": [
       "np.int64(3893)"
      ]
     },
     "execution_count": 109,
     "metadata": {},
     "output_type": "execute_result"
    }
   ],
   "source": [
    "df[(df['group'] == 'treatment') & (df['landing_page'] != 'new_page')].count().iloc[0] + \\\n",
    "df[(df['group'] != 'treatment') & (df['landing_page'] == 'new_page')].count().iloc[0]"
   ]
  },
  {
   "cell_type": "markdown",
   "id": "0373032b-6d7b-4110-b018-b714f128639a",
   "metadata": {},
   "source": [
    "Удаляем строки с некорректным распределением пользователей по страницам:\n",
    "1. Пользователи из группы 'treatment' не должны видеть старую страницу (landing_page != 'new_page'),\n",
    "2. Пользователи из 'control' не должны видеть новую страницу (landing_page == 'new_page')."
   ]
  },
  {
   "cell_type": "code",
   "execution_count": 110,
   "id": "bd139b14-4d77-404d-b58e-019f671acfdf",
   "metadata": {},
   "outputs": [
    {
     "data": {
      "text/plain": [
       "(290585, 5)"
      ]
     },
     "execution_count": 110,
     "metadata": {},
     "output_type": "execute_result"
    }
   ],
   "source": [
    "df.drop(df[(df['group'] == 'treatment') & (df['landing_page'] != 'new_page')].index, inplace=True)\n",
    "df.drop(df[(df['group'] != 'treatment') & (df['landing_page'] == 'new_page')].index, inplace=True)\n",
    "df.shape"
   ]
  },
  {
   "cell_type": "markdown",
   "id": "4a3df8ed-21d5-434f-8298-fad24b8c4d09",
   "metadata": {},
   "source": [
    "Находим все строки с дублирующимися пользователями по столбцу 'user_id'"
   ]
  },
  {
   "cell_type": "code",
   "execution_count": 111,
   "id": "9c6d49ba-38dc-44f9-bd45-b5c5154ca414",
   "metadata": {},
   "outputs": [
    {
     "data": {
      "text/html": [
       "<div>\n",
       "<style scoped>\n",
       "    .dataframe tbody tr th:only-of-type {\n",
       "        vertical-align: middle;\n",
       "    }\n",
       "\n",
       "    .dataframe tbody tr th {\n",
       "        vertical-align: top;\n",
       "    }\n",
       "\n",
       "    .dataframe thead th {\n",
       "        text-align: right;\n",
       "    }\n",
       "</style>\n",
       "<table border=\"1\" class=\"dataframe\">\n",
       "  <thead>\n",
       "    <tr style=\"text-align: right;\">\n",
       "      <th></th>\n",
       "      <th>user_id</th>\n",
       "      <th>timestamp</th>\n",
       "      <th>group</th>\n",
       "      <th>landing_page</th>\n",
       "      <th>converted</th>\n",
       "    </tr>\n",
       "  </thead>\n",
       "  <tbody>\n",
       "    <tr>\n",
       "      <th>2893</th>\n",
       "      <td>773192</td>\n",
       "      <td>2017-01-14 02:55:59.590927</td>\n",
       "      <td>treatment</td>\n",
       "      <td>new_page</td>\n",
       "      <td>0</td>\n",
       "    </tr>\n",
       "  </tbody>\n",
       "</table>\n",
       "</div>"
      ],
      "text/plain": [
       "      user_id                  timestamp      group landing_page  converted\n",
       "2893   773192 2017-01-14 02:55:59.590927  treatment     new_page          0"
      ]
     },
     "execution_count": 111,
     "metadata": {},
     "output_type": "execute_result"
    }
   ],
   "source": [
    "df[df['user_id'].duplicated()]"
   ]
  },
  {
   "cell_type": "markdown",
   "id": "5975cf92-a579-43e3-844c-a13bdeb0a26d",
   "metadata": {},
   "source": [
    "Удалим дублирующиеся строки"
   ]
  },
  {
   "cell_type": "code",
   "execution_count": 112,
   "id": "2acb635e-cf4f-443e-824b-3aa65444d04b",
   "metadata": {},
   "outputs": [],
   "source": [
    "df.drop(df[df['user_id'].duplicated()].index, inplace=True)"
   ]
  },
  {
   "cell_type": "markdown",
   "id": "75466931-8c2a-4f1d-b188-edb16f6b29b3",
   "metadata": {},
   "source": [
    "## Разведочный анализ данных (EDA)"
   ]
  },
  {
   "cell_type": "code",
   "execution_count": 113,
   "id": "942d2849-40de-46e7-8583-525d24e4b7b0",
   "metadata": {},
   "outputs": [],
   "source": [
    "summary = df.groupby('group').agg(\n",
    "    n_users=('user_id','count'),\n",
    "    conversions=('converted','sum')\n",
    ")"
   ]
  },
  {
   "cell_type": "code",
   "execution_count": 114,
   "id": "9d6ccc2a-5c98-4f1e-8400-a4692fa72e59",
   "metadata": {},
   "outputs": [
    {
     "data": {
      "text/html": [
       "<div>\n",
       "<style scoped>\n",
       "    .dataframe tbody tr th:only-of-type {\n",
       "        vertical-align: middle;\n",
       "    }\n",
       "\n",
       "    .dataframe tbody tr th {\n",
       "        vertical-align: top;\n",
       "    }\n",
       "\n",
       "    .dataframe thead th {\n",
       "        text-align: right;\n",
       "    }\n",
       "</style>\n",
       "<table border=\"1\" class=\"dataframe\">\n",
       "  <thead>\n",
       "    <tr style=\"text-align: right;\">\n",
       "      <th></th>\n",
       "      <th>n_users</th>\n",
       "      <th>conversions</th>\n",
       "    </tr>\n",
       "    <tr>\n",
       "      <th>group</th>\n",
       "      <th></th>\n",
       "      <th></th>\n",
       "    </tr>\n",
       "  </thead>\n",
       "  <tbody>\n",
       "    <tr>\n",
       "      <th>control</th>\n",
       "      <td>145274</td>\n",
       "      <td>17489</td>\n",
       "    </tr>\n",
       "    <tr>\n",
       "      <th>treatment</th>\n",
       "      <td>145310</td>\n",
       "      <td>17264</td>\n",
       "    </tr>\n",
       "  </tbody>\n",
       "</table>\n",
       "</div>"
      ],
      "text/plain": [
       "           n_users  conversions\n",
       "group                          \n",
       "control     145274        17489\n",
       "treatment   145310        17264"
      ]
     },
     "execution_count": 114,
     "metadata": {},
     "output_type": "execute_result"
    }
   ],
   "source": [
    "summary"
   ]
  },
  {
   "cell_type": "code",
   "execution_count": 115,
   "id": "b33871dc-a8b5-4104-a9fe-9cff84cea5f1",
   "metadata": {},
   "outputs": [],
   "source": [
    "summary['conversion_rate'] = summary['conversions'] / summary['n_users']"
   ]
  },
  {
   "cell_type": "code",
   "execution_count": 116,
   "id": "5d75515d-1daa-4289-b07b-294d6d1d4e63",
   "metadata": {},
   "outputs": [
    {
     "data": {
      "text/html": [
       "<div>\n",
       "<style scoped>\n",
       "    .dataframe tbody tr th:only-of-type {\n",
       "        vertical-align: middle;\n",
       "    }\n",
       "\n",
       "    .dataframe tbody tr th {\n",
       "        vertical-align: top;\n",
       "    }\n",
       "\n",
       "    .dataframe thead th {\n",
       "        text-align: right;\n",
       "    }\n",
       "</style>\n",
       "<table border=\"1\" class=\"dataframe\">\n",
       "  <thead>\n",
       "    <tr style=\"text-align: right;\">\n",
       "      <th></th>\n",
       "      <th>n_users</th>\n",
       "      <th>conversions</th>\n",
       "      <th>conversion_rate</th>\n",
       "    </tr>\n",
       "    <tr>\n",
       "      <th>group</th>\n",
       "      <th></th>\n",
       "      <th></th>\n",
       "      <th></th>\n",
       "    </tr>\n",
       "  </thead>\n",
       "  <tbody>\n",
       "    <tr>\n",
       "      <th>control</th>\n",
       "      <td>145274</td>\n",
       "      <td>17489</td>\n",
       "      <td>0.120386</td>\n",
       "    </tr>\n",
       "    <tr>\n",
       "      <th>treatment</th>\n",
       "      <td>145310</td>\n",
       "      <td>17264</td>\n",
       "      <td>0.118808</td>\n",
       "    </tr>\n",
       "  </tbody>\n",
       "</table>\n",
       "</div>"
      ],
      "text/plain": [
       "           n_users  conversions  conversion_rate\n",
       "group                                           \n",
       "control     145274        17489         0.120386\n",
       "treatment   145310        17264         0.118808"
      ]
     },
     "execution_count": 116,
     "metadata": {},
     "output_type": "execute_result"
    }
   ],
   "source": [
    "summary"
   ]
  },
  {
   "cell_type": "code",
   "execution_count": 117,
   "id": "fe214b71-f981-4747-84e6-bc13fa69b98a",
   "metadata": {},
   "outputs": [],
   "source": [
    "alpha = 0.05\n",
    "z = stats.norm.ppf(1 - alpha/2)\n",
    "summary['ci_half'] = z * np.sqrt(summary['conversion_rate'] * (1 - summary['conversion_rate']) / summary['n_users'])\n",
    "summary['ci_lower'] = summary['conversion_rate'] - summary['ci_half']\n",
    "summary['ci_upper'] = summary['conversion_rate'] + summary['ci_half']"
   ]
  },
  {
   "cell_type": "code",
   "execution_count": 118,
   "id": "a14e3a2f-8954-4077-90a3-d181f81344f1",
   "metadata": {},
   "outputs": [
    {
     "data": {
      "text/html": [
       "<div>\n",
       "<style scoped>\n",
       "    .dataframe tbody tr th:only-of-type {\n",
       "        vertical-align: middle;\n",
       "    }\n",
       "\n",
       "    .dataframe tbody tr th {\n",
       "        vertical-align: top;\n",
       "    }\n",
       "\n",
       "    .dataframe thead th {\n",
       "        text-align: right;\n",
       "    }\n",
       "</style>\n",
       "<table border=\"1\" class=\"dataframe\">\n",
       "  <thead>\n",
       "    <tr style=\"text-align: right;\">\n",
       "      <th></th>\n",
       "      <th>n_users</th>\n",
       "      <th>conversions</th>\n",
       "      <th>conversion_rate</th>\n",
       "      <th>ci_half</th>\n",
       "      <th>ci_lower</th>\n",
       "      <th>ci_upper</th>\n",
       "    </tr>\n",
       "    <tr>\n",
       "      <th>group</th>\n",
       "      <th></th>\n",
       "      <th></th>\n",
       "      <th></th>\n",
       "      <th></th>\n",
       "      <th></th>\n",
       "      <th></th>\n",
       "    </tr>\n",
       "  </thead>\n",
       "  <tbody>\n",
       "    <tr>\n",
       "      <th>control</th>\n",
       "      <td>145274</td>\n",
       "      <td>17489</td>\n",
       "      <td>0.120386</td>\n",
       "      <td>0.001673</td>\n",
       "      <td>0.118713</td>\n",
       "      <td>0.122060</td>\n",
       "    </tr>\n",
       "    <tr>\n",
       "      <th>treatment</th>\n",
       "      <td>145310</td>\n",
       "      <td>17264</td>\n",
       "      <td>0.118808</td>\n",
       "      <td>0.001664</td>\n",
       "      <td>0.117144</td>\n",
       "      <td>0.120472</td>\n",
       "    </tr>\n",
       "  </tbody>\n",
       "</table>\n",
       "</div>"
      ],
      "text/plain": [
       "           n_users  conversions  conversion_rate   ci_half  ci_lower  ci_upper\n",
       "group                                                                         \n",
       "control     145274        17489         0.120386  0.001673  0.118713  0.122060\n",
       "treatment   145310        17264         0.118808  0.001664  0.117144  0.120472"
      ]
     },
     "execution_count": 118,
     "metadata": {},
     "output_type": "execute_result"
    }
   ],
   "source": [
    "summary"
   ]
  },
  {
   "cell_type": "markdown",
   "id": "81f715ae-9b19-4323-970f-8b31c8b3f46d",
   "metadata": {},
   "source": [
    "**Вывод по результатам разведочного анализа данных (EDA):**\n",
    "\n",
    "В контрольной группе средняя конверсия составила примерно 12.04% (95% доверительный интервал: 11.87% – 12.21%), а в тестовой группе — около 11.88% (95% доверительный интервал: 11.71% – 12.05%). Доверительные интервалы перекрываются, что указывает на отсутствие явной статистически значимой разницы между группами.\n",
    "\n",
    "Это означает, что на данном этапе нет убедительных доказательств того, что новая версиястраницы (тестовая группа) существенно влияет на уровень конверсии по сравнению со старой версией (контрольная группа).\n",
    "\n",
    "Для более точного заключения необходимо провести проверку гипотез с использованием статистического теста для сравнения конверсий в двух группах. Результаты этого теста позволят определить, является ли наблюдаемая разница статистически значимой."
   ]
  },
  {
   "cell_type": "markdown",
   "id": "534da3b6-090b-41aa-b218-b8d59e5e754e",
   "metadata": {},
   "source": [
    "## Проверка гипотез"
   ]
  },
  {
   "cell_type": "markdown",
   "id": "bf52b909-60c0-4865-a446-c69f16b11f51",
   "metadata": {},
   "source": [
    "Проверим нулевую гипотезу, что конверсии в обеих группах равны, с помощью Z-теста для пропорций.  \n",
    "Также проведём χ²-тест как альтернативу."
   ]
  },
  {
   "cell_type": "code",
   "execution_count": 120,
   "id": "653446b2-3665-4b3d-a3ed-37e4d728d034",
   "metadata": {},
   "outputs": [
    {
     "name": "stdout",
     "output_type": "stream",
     "text": [
      "Z-тест: z = 1.311, p-value = 0.18988\n"
     ]
    }
   ],
   "source": [
    "count = summary['conversions'].values\n",
    "nobs = summary['n_users'].values\n",
    "z_stat,p_value = proportions_ztest(count, nobs)\n",
    "print(f\"Z-тест: z = {z_stat:.3f}, p-value = {p_value:.5f}\")"
   ]
  },
  {
   "cell_type": "code",
   "execution_count": 121,
   "id": "1855cfe2-3a3e-4843-80da-4f1d83ccf231",
   "metadata": {},
   "outputs": [
    {
     "name": "stdout",
     "output_type": "stream",
     "text": [
      "Chi2-тест: chi2 = 1.704, p-value = 0.19182\n"
     ]
    }
   ],
   "source": [
    "contingency_table = np.array([\n",
    "    summary['conversions'].values,\n",
    "    summary['n_users'].values - summary['conversions'].values\n",
    "])\n",
    "chi2_stat, chi2_p, dof, expected = stats.chi2_contingency(contingency_table.T)\n",
    "print(f\"Chi2-тест: chi2 = {chi2_stat:.3f}, p-value = {chi2_p:.5f}\")"
   ]
  },
  {
   "cell_type": "markdown",
   "id": "f2fb4ad7-a5ef-4a4b-9705-ed40ae941084",
   "metadata": {},
   "source": [
    "**Результаты проверки гипотез:**\n",
    "\n",
    "При проведении Z-теста для разности пропорций получили значение статистики z = 1.311 и p-value = 0.18988.\n",
    "\n",
    "Аналогично, при использовании Chi2-теста статистика составила chi2 = 1.704 с p-value = 0.19182.\n",
    "\n",
    "Оба теста дают p-value значительно выше уровня значимости 0.05, что означает недостаток оснований отвергать нулевую гипотезу о равенстве конверсий в контрольной и тестовой группах.\n",
    "\n",
    "Таким образом, на основании имеющихся данных нельзя утверждать о статистически значимом отличии между конверсиями на старой и новой посадочных страницах. Это говорит о том, что новая версия не показала значимого улучшения конверсии по сравнению со старой."
   ]
  },
  {
   "cell_type": "markdown",
   "id": "b7e6b2e8-b38d-4d2e-81b5-f5b4c10740b6",
   "metadata": {},
   "source": [
    "## Бутстрэп-оценка разницы конверсий"
   ]
  },
  {
   "cell_type": "markdown",
   "id": "fe328111-f6ad-4f70-b805-4f8e7b2047c3",
   "metadata": {},
   "source": [
    "Для большей уверенности проведём бутстрэп-оценку разницы конверсий и её доверительного интервала."
   ]
  },
  {
   "cell_type": "code",
   "execution_count": 122,
   "id": "c62e2830-dcba-4b5e-97a0-2cbf28a92721",
   "metadata": {},
   "outputs": [
    {
     "name": "stdout",
     "output_type": "stream",
     "text": [
      "Средняя разница конверсий: -0.0016\n",
      "95% доверительный интервал (бутстрэп): [-0.0040, 0.0008]\n"
     ]
    }
   ],
   "source": [
    "control = df[df['group'] == 'control']['converted'].values\n",
    "treatment = df[df['group'] == 'treatment']['converted'].values\n",
    "\n",
    "def bootstrap_diff(control, treatment, n_bootstrap=10000):\n",
    "    boot_diffs = []\n",
    "    n_control = len(control)\n",
    "    n_treatment = len(treatment)\n",
    "\n",
    "    for _ in range(n_bootstrap):\n",
    "        control_sample = np.random.choice(control, size=n_control, replace=True)\n",
    "        treatment_sample = np.random.choice(treatment, size=n_treatment, replace=True)\n",
    "        diff = np.mean(treatment_sample) - np.mean(control_sample)\n",
    "        boot_diffs.append(diff)\n",
    "\n",
    "    return np.array(boot_diffs)\n",
    "\n",
    "boot_diffs = bootstrap_diff(control, treatment)\n",
    "\n",
    "mean_diff = np.mean(treatment) - np.mean(control)\n",
    "ci_lower = np.percentile(boot_diffs, 2.5)\n",
    "ci_upper = np.percentile(boot_diffs, 97.5)\n",
    "\n",
    "print(f\"Средняя разница конверсий: {mean_diff:.4f}\")\n",
    "print(f\"95% доверительный интервал (бутстрэп): [{ci_lower:.4f}, {ci_upper:.4f}]\")"
   ]
  },
  {
   "cell_type": "markdown",
   "id": "2e5c8438-9b48-4a9b-ab88-e5f10a5d2159",
   "metadata": {},
   "source": [
    "**Результаты бутстрэпинга:**\n",
    "\n",
    "Средняя разница конверсий между тестовой и контрольной группами составила примерно -0.0016 (то есть конверсия в тестовой группе немного ниже).\n",
    "95% доверительный интервал, построенный с помощью бутстрэп-метода, равен от -0.0040 до 0.0008.\n",
    "\n",
    "Поскольку доверительный интервал включает ноль, это дополнительно подтверждает отсутствие статистически значимой разницы между группами."
   ]
  },
  {
   "cell_type": "markdown",
   "id": "c8a35e5b-5ac1-418e-a9d2-94bb1847307a",
   "metadata": {},
   "source": [
    "**Визуализации доверительного интервала для разницы конверсий**"
   ]
  },
  {
   "cell_type": "code",
   "execution_count": 125,
   "id": "92caacd7-7ad7-4b07-bf49-85eb7fa7502a",
   "metadata": {},
   "outputs": [
    {
     "data": {
      "image/png": "[encoded data removed]",
      "text/plain": [
       "<Figure size 640x480 with 1 Axes>"
      ]
     },
     "metadata": {},
     "output_type": "display_data"
    }
   ],
   "source": [
    "plt.hist(boot_diffs, bins=50, color='skyblue', edgecolor='k')\n",
    "plt.axvline(mean_diff, color='blue', label='Средняя разница')\n",
    "plt.axvline(ci_lower, color='red', linestyle='--', label='2.5% перцентиль')\n",
    "plt.axvline(ci_upper, color='red', linestyle='--', label='97.5% перцентиль')\n",
    "plt.axvline(0, color='black', linestyle=':', label='Нулевая разница')\n",
    "plt.legend()\n",
    "plt.title('Распределение бутстрэп-оценок разницы конверсий')\n",
    "plt.xlabel('Разница конверсий (treatment - control)')\n",
    "plt.ylabel('Частота')\n",
    "plt.grid(True)\n",
    "plt.show()"
   ]
  },
  {
   "cell_type": "markdown",
   "id": "b3ea149f-df7b-4e4d-b56a-4dce09499109",
   "metadata": {},
   "source": [
    "## Power-анализ"
   ]
  },
  {
   "cell_type": "markdown",
   "id": "4fe84d0b-b8a7-4b6d-97ee-75f0b58ff546",
   "metadata": {},
   "source": [
    "Рассчитаем минимальный размер выборки для обнаружения эффекта с мощностью 0.8 и уровнем значимости 0.05."
   ]
  },
  {
   "cell_type": "code",
   "execution_count": 126,
   "id": "83d9412b-8aac-4760-98ec-c285cce97217",
   "metadata": {},
   "outputs": [
    {
     "name": "stdout",
     "output_type": "stream",
     "text": [
      "Нужный размер выборки на группу для обнаружения разницы: 663574\n"
     ]
    }
   ],
   "source": [
    "control = df[df['group'] == 'control']['converted'].values\n",
    "treatment = df[df['group'] == 'treatment']['converted'].values\n",
    "\n",
    "p1 = control.mean()\n",
    "p2 = treatment.mean()\n",
    "\n",
    "effect_size = proportion_effectsize(p2, p1)\n",
    "\n",
    "\n",
    "alpha = 0.05\n",
    "power = 0.8\n",
    "\n",
    "analysis = NormalIndPower()\n",
    "\n",
    "sample_size_per_group = analysis.solve_power(effect_size=effect_size, power=power, alpha=alpha, alternative='two-sided')\n",
    "\n",
    "print(f'Нужный размер выборки на группу для обнаружения разницы: {int(np.ceil(sample_size_per_group))}')"
   ]
  },
  {
   "cell_type": "markdown",
   "id": "fcf02165-2bda-4e08-98c0-b8e79278a26a",
   "metadata": {},
   "source": [
    "**Результаты анализа мощности (power-анализ):**\n",
    "\n",
    "Для того чтобы с надежностью обнаружить имеющуюся разницу в конверсии между группами с уровнем значимости 0.05 и мощностью теста 80%, необходим минимальный размер выборки на каждую группу составляет примерно 663 574 пользователей.\n",
    "\n",
    "Это значительно больше текущего объема данных, что объясняет отсутствие статистически значимой разницы — имеющиеся выборки слишком малы для уверенного выявления такого эффекта."
   ]
  },
  {
   "cell_type": "markdown",
   "id": "f7029dd9-877d-42b0-bf93-e2eba92797b2",
   "metadata": {},
   "source": [
    "## Вывод"
   ]
  },
  {
   "cell_type": "markdown",
   "id": "679b93db-df08-43b2-876e-1613e9298a73",
   "metadata": {},
   "source": [
    "Проведённый анализ A/B-теста показал, что текущие данные не содержат статистически значимых отличий в конверсии между контрольной (старой страницей) и тестовой (новой страницей) группами. Средняя разница конверсий небольшая и отрицательная (-0.16%), а доверительные интервалы, построенные бутстрэпом, включают ноль, что указывает на отсутствие эффекта.\n",
    "\n",
    "Проверка гипотез с помощью Z-теста и Chi2-теста подтвердила это — полученные p-value значительно выше стандартного уровня значимости 0.05, что не позволяет отвергнуть нулевую гипотезу о равенстве конверсий.\n",
    "\n",
    "Кроме того, power-анализ показал, что для надёжного обнаружения такой разницы требуется существенно больше данных — порядка 660 тысяч пользователей на каждую группу. Текущие размеры выборок значительно меньше этого порога, что объясняет отсутствие статистической значимости.\n",
    "\n",
    "Таким образом, на основании имеющихся данных можно сделать вывод, что новая версия посадочной страницы не демонстрирует улучшения конверсии по сравнению с существующей. Для более точного решения по внедрению рекомендуется либо увеличить размер выборки, либо рассмотреть другие метрики и подходы."
   ]
  }
 ],
 "metadata": {
  "kernelspec": {
   "display_name": "Python 3 (ipykernel)",
   "language": "python",
   "name": "python3"
  },
  "language_info": {
   "codemirror_mode": {
    "name": "ipython",
    "version": 3
   },
   "file_extension": ".py",
   "mimetype": "text/x-python",
   "name": "python",
   "nbconvert_exporter": "python",
   "pygments_lexer": "ipython3",
   "version": "3.12.3"
  }
 },
 "nbformat": 4,
 "nbformat_minor": 5
}
